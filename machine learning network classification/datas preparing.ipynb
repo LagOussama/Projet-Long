{
 "cells": [
  {
   "cell_type": "code",
   "execution_count": 1,
   "metadata": {},
   "outputs": [],
   "source": [
    "import numpy as np\n",
    "import pandas as pd\n",
    "import matplotlib.pyplot as plt\n",
    "\n",
    "import socket, struct\n",
    "\n",
    "import imblearn\n",
    "from imblearn.under_sampling import RandomUnderSampler\n",
    "from sklearn.preprocessing import LabelEncoder\n",
    "from collections import Counter\n",
    "from imblearn.over_sampling import SMOTE\n",
    "from imblearn.pipeline import make_pipeline\n",
    "from imblearn.under_sampling import NearMiss"
   ]
  },
  {
   "cell_type": "code",
   "execution_count": 2,
   "metadata": {},
   "outputs": [
    {
     "name": "stdout",
     "output_type": "stream",
     "text": [
      "There are 500000 rows and 87 columns\n"
     ]
    }
   ],
   "source": [
    "nRowsRead = 500000 # specify 'None' if want to read whole file\n",
    "# Dataset-Unicauca-Version2-87Atts.csv has 3577296 rows in reality, but we are only loading/previewing the first 500 000 rows\n",
    "# change the path to where the file Dataset-Unicauca-Version2-87Atts.csv is in the local\n",
    "df =  pd.read_csv (r'C:\\Users\\Pc\\Downloads\\ENSEEIHT_etudes\\Annee_3\\Projet_long\\classification_machine_learning\\datas\\Dataset-Unicauca-Version2-87Atts.csv', delimiter=',', nrows = nRowsRead)\n",
    "df.dataframeName = 'Dataset-Unicauca-Version2-87Atts.csv'\n",
    "nRow, nCol = df.shape\n",
    "\n",
    "print(f'There are {nRow} rows and {nCol} columns')"
   ]
  },
  {
   "cell_type": "code",
   "execution_count": 3,
   "metadata": {},
   "outputs": [
    {
     "data": {
      "text/html": [
       "<div>\n",
       "<style scoped>\n",
       "    .dataframe tbody tr th:only-of-type {\n",
       "        vertical-align: middle;\n",
       "    }\n",
       "\n",
       "    .dataframe tbody tr th {\n",
       "        vertical-align: top;\n",
       "    }\n",
       "\n",
       "    .dataframe thead th {\n",
       "        text-align: right;\n",
       "    }\n",
       "</style>\n",
       "<table border=\"1\" class=\"dataframe\">\n",
       "  <thead>\n",
       "    <tr style=\"text-align: right;\">\n",
       "      <th></th>\n",
       "      <th>Flow.ID</th>\n",
       "      <th>Source.IP</th>\n",
       "      <th>Source.Port</th>\n",
       "      <th>Destination.IP</th>\n",
       "      <th>Destination.Port</th>\n",
       "      <th>Protocol</th>\n",
       "      <th>Timestamp</th>\n",
       "      <th>Flow.Duration</th>\n",
       "      <th>Total.Fwd.Packets</th>\n",
       "      <th>Total.Backward.Packets</th>\n",
       "      <th>...</th>\n",
       "      <th>Active.Std</th>\n",
       "      <th>Active.Max</th>\n",
       "      <th>Active.Min</th>\n",
       "      <th>Idle.Mean</th>\n",
       "      <th>Idle.Std</th>\n",
       "      <th>Idle.Max</th>\n",
       "      <th>Idle.Min</th>\n",
       "      <th>Label</th>\n",
       "      <th>L7Protocol</th>\n",
       "      <th>ProtocolName</th>\n",
       "    </tr>\n",
       "  </thead>\n",
       "  <tbody>\n",
       "    <tr>\n",
       "      <th>0</th>\n",
       "      <td>172.19.1.46-10.200.7.7-52422-3128-6</td>\n",
       "      <td>172.19.1.46</td>\n",
       "      <td>52422</td>\n",
       "      <td>10.200.7.7</td>\n",
       "      <td>3128</td>\n",
       "      <td>6</td>\n",
       "      <td>26/04/201711:11:17</td>\n",
       "      <td>45523</td>\n",
       "      <td>22</td>\n",
       "      <td>55</td>\n",
       "      <td>...</td>\n",
       "      <td>0.0</td>\n",
       "      <td>0</td>\n",
       "      <td>0.0</td>\n",
       "      <td>0.0</td>\n",
       "      <td>0.0</td>\n",
       "      <td>0.0</td>\n",
       "      <td>0.0</td>\n",
       "      <td>BENIGN</td>\n",
       "      <td>131</td>\n",
       "      <td>HTTP_PROXY</td>\n",
       "    </tr>\n",
       "    <tr>\n",
       "      <th>1</th>\n",
       "      <td>172.19.1.46-10.200.7.7-52422-3128-6</td>\n",
       "      <td>10.200.7.7</td>\n",
       "      <td>3128</td>\n",
       "      <td>172.19.1.46</td>\n",
       "      <td>52422</td>\n",
       "      <td>6</td>\n",
       "      <td>26/04/201711:11:17</td>\n",
       "      <td>1</td>\n",
       "      <td>2</td>\n",
       "      <td>0</td>\n",
       "      <td>...</td>\n",
       "      <td>0.0</td>\n",
       "      <td>0</td>\n",
       "      <td>0.0</td>\n",
       "      <td>0.0</td>\n",
       "      <td>0.0</td>\n",
       "      <td>0.0</td>\n",
       "      <td>0.0</td>\n",
       "      <td>BENIGN</td>\n",
       "      <td>131</td>\n",
       "      <td>HTTP_PROXY</td>\n",
       "    </tr>\n",
       "    <tr>\n",
       "      <th>2</th>\n",
       "      <td>10.200.7.217-50.31.185.39-38848-80-6</td>\n",
       "      <td>50.31.185.39</td>\n",
       "      <td>80</td>\n",
       "      <td>10.200.7.217</td>\n",
       "      <td>38848</td>\n",
       "      <td>6</td>\n",
       "      <td>26/04/201711:11:17</td>\n",
       "      <td>1</td>\n",
       "      <td>3</td>\n",
       "      <td>0</td>\n",
       "      <td>...</td>\n",
       "      <td>0.0</td>\n",
       "      <td>0</td>\n",
       "      <td>0.0</td>\n",
       "      <td>0.0</td>\n",
       "      <td>0.0</td>\n",
       "      <td>0.0</td>\n",
       "      <td>0.0</td>\n",
       "      <td>BENIGN</td>\n",
       "      <td>7</td>\n",
       "      <td>HTTP</td>\n",
       "    </tr>\n",
       "    <tr>\n",
       "      <th>3</th>\n",
       "      <td>10.200.7.217-50.31.185.39-38848-80-6</td>\n",
       "      <td>50.31.185.39</td>\n",
       "      <td>80</td>\n",
       "      <td>10.200.7.217</td>\n",
       "      <td>38848</td>\n",
       "      <td>6</td>\n",
       "      <td>26/04/201711:11:17</td>\n",
       "      <td>217</td>\n",
       "      <td>1</td>\n",
       "      <td>3</td>\n",
       "      <td>...</td>\n",
       "      <td>0.0</td>\n",
       "      <td>0</td>\n",
       "      <td>0.0</td>\n",
       "      <td>0.0</td>\n",
       "      <td>0.0</td>\n",
       "      <td>0.0</td>\n",
       "      <td>0.0</td>\n",
       "      <td>BENIGN</td>\n",
       "      <td>7</td>\n",
       "      <td>HTTP</td>\n",
       "    </tr>\n",
       "    <tr>\n",
       "      <th>4</th>\n",
       "      <td>192.168.72.43-10.200.7.7-55961-3128-6</td>\n",
       "      <td>192.168.72.43</td>\n",
       "      <td>55961</td>\n",
       "      <td>10.200.7.7</td>\n",
       "      <td>3128</td>\n",
       "      <td>6</td>\n",
       "      <td>26/04/201711:11:17</td>\n",
       "      <td>78068</td>\n",
       "      <td>5</td>\n",
       "      <td>0</td>\n",
       "      <td>...</td>\n",
       "      <td>0.0</td>\n",
       "      <td>0</td>\n",
       "      <td>0.0</td>\n",
       "      <td>0.0</td>\n",
       "      <td>0.0</td>\n",
       "      <td>0.0</td>\n",
       "      <td>0.0</td>\n",
       "      <td>BENIGN</td>\n",
       "      <td>131</td>\n",
       "      <td>HTTP_PROXY</td>\n",
       "    </tr>\n",
       "  </tbody>\n",
       "</table>\n",
       "<p>5 rows × 87 columns</p>\n",
       "</div>"
      ],
      "text/plain": [
       "                                 Flow.ID      Source.IP  Source.Port  \\\n",
       "0    172.19.1.46-10.200.7.7-52422-3128-6    172.19.1.46        52422   \n",
       "1    172.19.1.46-10.200.7.7-52422-3128-6     10.200.7.7         3128   \n",
       "2   10.200.7.217-50.31.185.39-38848-80-6   50.31.185.39           80   \n",
       "3   10.200.7.217-50.31.185.39-38848-80-6   50.31.185.39           80   \n",
       "4  192.168.72.43-10.200.7.7-55961-3128-6  192.168.72.43        55961   \n",
       "\n",
       "  Destination.IP  Destination.Port  Protocol           Timestamp  \\\n",
       "0     10.200.7.7              3128         6  26/04/201711:11:17   \n",
       "1    172.19.1.46             52422         6  26/04/201711:11:17   \n",
       "2   10.200.7.217             38848         6  26/04/201711:11:17   \n",
       "3   10.200.7.217             38848         6  26/04/201711:11:17   \n",
       "4     10.200.7.7              3128         6  26/04/201711:11:17   \n",
       "\n",
       "   Flow.Duration  Total.Fwd.Packets  Total.Backward.Packets  ...  Active.Std  \\\n",
       "0          45523                 22                      55  ...         0.0   \n",
       "1              1                  2                       0  ...         0.0   \n",
       "2              1                  3                       0  ...         0.0   \n",
       "3            217                  1                       3  ...         0.0   \n",
       "4          78068                  5                       0  ...         0.0   \n",
       "\n",
       "   Active.Max  Active.Min  Idle.Mean  Idle.Std  Idle.Max  Idle.Min   Label  \\\n",
       "0           0         0.0        0.0       0.0       0.0       0.0  BENIGN   \n",
       "1           0         0.0        0.0       0.0       0.0       0.0  BENIGN   \n",
       "2           0         0.0        0.0       0.0       0.0       0.0  BENIGN   \n",
       "3           0         0.0        0.0       0.0       0.0       0.0  BENIGN   \n",
       "4           0         0.0        0.0       0.0       0.0       0.0  BENIGN   \n",
       "\n",
       "   L7Protocol  ProtocolName  \n",
       "0         131    HTTP_PROXY  \n",
       "1         131    HTTP_PROXY  \n",
       "2           7          HTTP  \n",
       "3           7          HTTP  \n",
       "4         131    HTTP_PROXY  \n",
       "\n",
       "[5 rows x 87 columns]"
      ]
     },
     "execution_count": 3,
     "metadata": {},
     "output_type": "execute_result"
    }
   ],
   "source": [
    "df.head()"
   ]
  },
  {
   "cell_type": "code",
   "execution_count": 4,
   "metadata": {},
   "outputs": [],
   "source": [
    "# Function that changes IP addresses into numbers\n",
    "\n",
    "def ip2int(ip):\n",
    "    packedIP = socket.inet_aton(ip)\n",
    "    return struct.unpack(\"!L\", packedIP)[0]"
   ]
  },
  {
   "cell_type": "code",
   "execution_count": 5,
   "metadata": {},
   "outputs": [],
   "source": [
    "# Converting IP addresses into numbers\n",
    "df['Source.IP'] = df['Source.IP'].apply(ip2int)\n",
    "df['Destination.IP'] = df['Destination.IP'].apply(ip2int)"
   ]
  },
  {
   "cell_type": "code",
   "execution_count": 6,
   "metadata": {},
   "outputs": [
    {
     "data": {
      "text/plain": [
       "False"
      ]
     },
     "execution_count": 6,
     "metadata": {},
     "output_type": "execute_result"
    }
   ],
   "source": [
    "# Checking if any value in the dataframe is null\n",
    "df.isnull().values.any()"
   ]
  },
  {
   "cell_type": "code",
   "execution_count": 7,
   "metadata": {},
   "outputs": [
    {
     "name": "stdout",
     "output_type": "stream",
     "text": [
      "Flow.ID              object\n",
      "Source.IP             int64\n",
      "Source.Port           int64\n",
      "Destination.IP        int64\n",
      "Destination.Port      int64\n",
      "                     ...   \n",
      "Idle.Max            float64\n",
      "Idle.Min            float64\n",
      "Label                object\n",
      "L7Protocol            int64\n",
      "ProtocolName         object\n",
      "Length: 87, dtype: object\n"
     ]
    }
   ],
   "source": [
    "# Checking types of values\n",
    "print(df.dtypes)"
   ]
  },
  {
   "cell_type": "code",
   "execution_count": 8,
   "metadata": {},
   "outputs": [
    {
     "data": {
      "text/plain": [
       "Index(['Bwd.PSH.Flags', 'Fwd.URG.Flags', 'Bwd.URG.Flags', 'CWE.Flag.Count',\n",
       "       'Fwd.Avg.Bytes.Bulk', 'Fwd.Avg.Packets.Bulk', 'Fwd.Avg.Bulk.Rate',\n",
       "       'Bwd.Avg.Bytes.Bulk', 'Bwd.Avg.Packets.Bulk', 'Bwd.Avg.Bulk.Rate',\n",
       "       'Label'],\n",
       "      dtype='object')"
      ]
     },
     "execution_count": 8,
     "metadata": {},
     "output_type": "execute_result"
    }
   ],
   "source": [
    "# Checking columns that have only one unique value\n",
    "df.columns[df.nunique() <= 1]"
   ]
  },
  {
   "cell_type": "code",
   "execution_count": 9,
   "metadata": {},
   "outputs": [
    {
     "data": {
      "text/plain": [
       "GOOGLE               125059\n",
       "HTTP                 111493\n",
       "HTTP_PROXY            69216\n",
       "SSL                   67804\n",
       "HTTP_CONNECT          46807\n",
       "YOUTUBE               22297\n",
       "MICROSOFT             10693\n",
       "AMAZON                 8099\n",
       "WINDOWS_UPDATE         6683\n",
       "GMAIL                  4456\n",
       "SKYPE                  3916\n",
       "FACEBOOK               3588\n",
       "YAHOO                  3462\n",
       "DROPBOX                3247\n",
       "TWITTER                2635\n",
       "CLOUDFLARE             2505\n",
       "MSN                    1842\n",
       "APPLE                  1567\n",
       "OFFICE_365              738\n",
       "WIKIPEDIA               546\n",
       "CONTENT_FLASH           433\n",
       "WHATSAPP                408\n",
       "MS_ONE_DRIVE            393\n",
       "NETFLIX                 374\n",
       "IP_ICMP                 259\n",
       "APPLE_ITUNES            209\n",
       "DNS                     189\n",
       "APPLE_ICLOUD            185\n",
       "INSTAGRAM               158\n",
       "SSL_NO_CERT             130\n",
       "EBAY                    101\n",
       "HTTP_DOWNLOAD            92\n",
       "UBUNTUONE                58\n",
       "WAZE                     52\n",
       "TEAMVIEWER               46\n",
       "TOR                      37\n",
       "GOOGLE_MAPS              33\n",
       "MQTT                     28\n",
       "FTP_DATA                 26\n",
       "TWITCH                   24\n",
       "NTP                      22\n",
       "EASYTAXI                 21\n",
       "UNENCRYPED_JABBER        16\n",
       "SSH                      15\n",
       "CITRIX                   11\n",
       "OPENSIGNAL                9\n",
       "MSSQL                     4\n",
       "UPNP                      4\n",
       "SPOTIFY                   3\n",
       "MAIL_IMAPS                3\n",
       "SIMET                     2\n",
       "EDONKEY                   2\n",
       "Name: ProtocolName, dtype: int64"
      ]
     },
     "execution_count": 9,
     "metadata": {},
     "output_type": "execute_result"
    }
   ],
   "source": [
    "# Checking occurance of each application\n",
    "df['ProtocolName'].value_counts()"
   ]
  },
  {
   "cell_type": "code",
   "execution_count": 10,
   "metadata": {},
   "outputs": [
    {
     "data": {
      "text/plain": [
       "Index(['APPLE_ICLOUD', 'INSTAGRAM', 'SSL_NO_CERT', 'EBAY', 'HTTP_DOWNLOAD',\n",
       "       'UBUNTUONE', 'WAZE', 'TEAMVIEWER', 'TOR', 'GOOGLE_MAPS', 'MQTT',\n",
       "       'FTP_DATA', 'TWITCH', 'NTP', 'EASYTAXI', 'UNENCRYPED_JABBER', 'SSH',\n",
       "       'CITRIX', 'OPENSIGNAL', 'MSSQL', 'UPNP', 'SPOTIFY', 'MAIL_IMAPS',\n",
       "       'SIMET', 'EDONKEY'],\n",
       "      dtype='object')"
      ]
     },
     "execution_count": 10,
     "metadata": {},
     "output_type": "execute_result"
    }
   ],
   "source": [
    "# Features that will be removed from dataset because they have low occurances of records in dataset\n",
    "feats_toDelete = df['ProtocolName'].value_counts()[-25:].index\n",
    "feats_toDelete"
   ]
  },
  {
   "cell_type": "code",
   "execution_count": 11,
   "metadata": {},
   "outputs": [
    {
     "data": {
      "image/png": "[encoded data removed]",
      "text/plain": [
       "<Figure size 1152x720 with 1 Axes>"
      ]
     },
     "metadata": {
      "needs_background": "light"
     },
     "output_type": "display_data"
    }
   ],
   "source": [
    "# Plot the number of records for individual applications\n",
    "target_count = df['ProtocolName'].value_counts()\n",
    "plt.figure(figsize=(16,10))\n",
    "target_count.plot(kind='bar', title='Occurance');"
   ]
  },
  {
   "cell_type": "code",
   "execution_count": 12,
   "metadata": {},
   "outputs": [],
   "source": [
    "# Removal of the applications saved in feats_toDelete var because they occur in a small amount of records and do not have a major impact on the model\n",
    "df = df[~df.ProtocolName.isin(feats_toDelete)]"
   ]
  },
  {
   "cell_type": "code",
   "execution_count": 13,
   "metadata": {},
   "outputs": [
    {
     "data": {
      "image/png": "[encoded data removed]",
      "text/plain": [
       "<Figure size 1152x720 with 1 Axes>"
      ]
     },
     "metadata": {
      "needs_background": "light"
     },
     "output_type": "display_data"
    }
   ],
   "source": [
    "# Plot the number of records for individual applications one more time after some application removal\n",
    "target_count2 = df['ProtocolName'].value_counts()\n",
    "plt.figure(figsize=(16,10))\n",
    "target_count2.plot(kind='bar', title='Occurance');"
   ]
  },
  {
   "cell_type": "code",
   "execution_count": 14,
   "metadata": {},
   "outputs": [],
   "source": [
    "feats = [x for x in df.columns if (x != 'ProtocolName' and x != 'Flow.ID' and x != 'Timestamp' and x != 'Label')]\n",
    "X = df[feats].astype(float)\n",
    "Y = df['ProtocolName']"
   ]
  },
  {
   "cell_type": "code",
   "execution_count": 15,
   "metadata": {},
   "outputs": [],
   "source": [
    "# Convert application names to numbers\n",
    "encoder = LabelEncoder()\n",
    "encoder.fit(Y)\n",
    "encoded_Y = encoder.transform(Y)"
   ]
  },
  {
   "cell_type": "code",
   "execution_count": 16,
   "metadata": {},
   "outputs": [
    {
     "name": "stdout",
     "output_type": "stream",
     "text": [
      "[('AMAZON', 8099), ('APPLE', 1567), ('APPLE_ITUNES', 209), ('CLOUDFLARE', 2505), ('CONTENT_FLASH', 433), ('DNS', 189), ('DROPBOX', 3247), ('FACEBOOK', 3588), ('GMAIL', 4456), ('GOOGLE', 125059), ('HTTP', 111493), ('HTTP_CONNECT', 46807), ('HTTP_PROXY', 69216), ('IP_ICMP', 259), ('MICROSOFT', 10693), ('MSN', 1842), ('MS_ONE_DRIVE', 393), ('NETFLIX', 374), ('OFFICE_365', 738), ('SKYPE', 3916), ('SSL', 67804), ('TWITTER', 2635), ('WHATSAPP', 408), ('WIKIPEDIA', 546), ('WINDOWS_UPDATE', 6683), ('YAHOO', 3462), ('YOUTUBE', 22297)]\n"
     ]
    }
   ],
   "source": [
    "print(sorted(Counter(Y).items()))"
   ]
  },
  {
   "cell_type": "code",
   "execution_count": 17,
   "metadata": {},
   "outputs": [
    {
     "name": "stdout",
     "output_type": "stream",
     "text": [
      "[(0, 8099), (1, 1567), (2, 209), (3, 2505), (4, 433), (5, 189), (6, 3247), (7, 3588), (8, 4456), (9, 125059), (10, 111493), (11, 46807), (12, 69216), (13, 259), (14, 10693), (15, 1842), (16, 393), (17, 374), (18, 738), (19, 3916), (20, 67804), (21, 2635), (22, 408), (23, 546), (24, 6683), (25, 3462), (26, 22297)]\n"
     ]
    }
   ],
   "source": [
    "print(sorted(Counter(encoded_Y).items()))"
   ]
  },
  {
   "cell_type": "code",
   "execution_count": 18,
   "metadata": {},
   "outputs": [],
   "source": [
    "dict_nearMiss = {\n",
    "\"GOOGLE\":            10000,\n",
    "\"HTTP\":              10000,\n",
    "\"HTTP_PROXY\":        10000,\n",
    "\"SSL\":               10000,\n",
    "\"HTTP_CONNECT\":      10000,\n",
    "\"YOUTUBE\":           10000,\n",
    "\"AMAZON\":             10000,\n",
    "\"MICROSOFT\":          10000,\n",
    "\"GMAIL\":              10000,\n",
    "\"WINDOWS_UPDATE\":     10000,\n",
    "\"SKYPE\":              10000,\n",
    "\"FACEBOOK\":           10000,\n",
    "\"DROPBOX\":            10000,\n",
    "\"YAHOO\":              10000,\n",
    "\"TWITTER\":            10000,\n",
    "\"CLOUDFLARE\":         10000,\n",
    "\"MSN\":                10000,\n",
    "}"
   ]
  },
  {
   "cell_type": "code",
   "execution_count": 19,
   "metadata": {},
   "outputs": [
    {
     "name": "stdout",
     "output_type": "stream",
     "text": [
      "{'CONTENT_FLASH': 10000, 'APPLE': 10000, 'OFFICE_365': 10000, 'WHATSAPP': 10000, 'INSTAGRAM': 10000, 'WIKIPEDIA': 10000, 'MS_ONE_DRIVE': 10000, 'DNS': 10000, 'IP_ICMP': 10000, 'NETFLIX': 10000, 'APPLE_ITUNES': 10000, 'SPOTIFY': 10000, 'APPLE_ICLOUD': 10000, 'EBAY': 10000, 'SSL_NO_CERT': 10000, 'GOOGLE_MAPS': 10000, 'EASYTAXI': 10000, 'TEAMVIEWER': 10000, 'HTTP_DOWNLOAD': 10000, 'MQTT': 10000, 'TOR': 10000, 'FTP_DATA': 10000, 'UBUNTUONE': 10000, 'NTP': 10000, 'SSH': 10000}\n"
     ]
    }
   ],
   "source": [
    "dict_smote = { \"CONTENT_FLASH\":       10000,\n",
    "\"APPLE\":               10000,\n",
    "\"OFFICE_365\":        10000,\n",
    "\"WHATSAPP\":            10000,\n",
    "\"INSTAGRAM\":          10000,\n",
    "\"WIKIPEDIA\":           10000,\n",
    "\"MS_ONE_DRIVE\":        10000,\n",
    "\"DNS\":                 10000,\n",
    "\"IP_ICMP\":             10000,\n",
    "\"NETFLIX\":             10000,\n",
    "\"APPLE_ITUNES\":        10000,\n",
    "\"SPOTIFY\":             10000,\n",
    "\"APPLE_ICLOUD\":        10000,\n",
    "\"EBAY\":               10000,\n",
    "\"SSL_NO_CERT\":          10000,\n",
    "\"GOOGLE_MAPS\":          10000,\n",
    "\"EASYTAXI\":             10000,\n",
    "\"TEAMVIEWER\":           10000,\n",
    "\"HTTP_DOWNLOAD\":        10000,\n",
    "\"MQTT\":                 10000,\n",
    "\"TOR\":                  10000,\n",
    "\"FTP_DATA\":             10000,\n",
    "\"UBUNTUONE\":            10000,\n",
    "\"NTP\":                  10000,\n",
    "\"SSH\": 10000}\n",
    "print(dict_smote)"
   ]
  },
  {
   "cell_type": "code",
   "execution_count": 20,
   "metadata": {},
   "outputs": [],
   "source": [
    "# getting rid of the problem of unbalanced data set\n",
    "pipe = make_pipeline(\n",
    "    SMOTE(sampling_strategy=dict_smote),\n",
    "    NearMiss(sampling_strategy=dict_nearMiss)\n",
    ")"
   ]
  },
  {
   "cell_type": "code",
   "execution_count": 21,
   "metadata": {},
   "outputs": [],
   "source": [
    "# check that all keys in sampling_strategy are also in y\n",
    "X_resampled, y_resampled = (X, Y)"
   ]
  },
  {
   "cell_type": "code",
   "execution_count": 22,
   "metadata": {},
   "outputs": [
    {
     "name": "stdout",
     "output_type": "stream",
     "text": [
      "Shape pierwotnego pliku (498918, 87)\n",
      "Shape X (498918, 83)\n",
      "Shape X_resampled(498918, 83)\n",
      "Shape Y (498918,)\n",
      "Shape y_resampled(498918,)\n"
     ]
    }
   ],
   "source": [
    "print(\"Shape pierwotnego pliku \" + str(df.shape))\n",
    "print(\"Shape X \" + str(X.shape))\n",
    "print(\"Shape X_resampled\" + str(X_resampled.shape))\n",
    "print(\"Shape Y \" + str(Y.shape))\n",
    "print(\"Shape y_resampled\" + str(y_resampled.shape))"
   ]
  },
  {
   "cell_type": "code",
   "execution_count": 23,
   "metadata": {},
   "outputs": [],
   "source": [
    "# creating new dataset\n",
    "new_dataframe = pd.DataFrame(data = X_resampled, columns = feats)"
   ]
  },
  {
   "cell_type": "code",
   "execution_count": 24,
   "metadata": {},
   "outputs": [],
   "source": [
    "new_dataframe['ProtocolName'] = y_resampled"
   ]
  },
  {
   "cell_type": "code",
   "execution_count": 25,
   "metadata": {},
   "outputs": [
    {
     "data": {
      "text/html": [
       "<div>\n",
       "<style scoped>\n",
       "    .dataframe tbody tr th:only-of-type {\n",
       "        vertical-align: middle;\n",
       "    }\n",
       "\n",
       "    .dataframe tbody tr th {\n",
       "        vertical-align: top;\n",
       "    }\n",
       "\n",
       "    .dataframe thead th {\n",
       "        text-align: right;\n",
       "    }\n",
       "</style>\n",
       "<table border=\"1\" class=\"dataframe\">\n",
       "  <thead>\n",
       "    <tr style=\"text-align: right;\">\n",
       "      <th></th>\n",
       "      <th>Source.IP</th>\n",
       "      <th>Source.Port</th>\n",
       "      <th>Destination.IP</th>\n",
       "      <th>Destination.Port</th>\n",
       "      <th>Protocol</th>\n",
       "      <th>Flow.Duration</th>\n",
       "      <th>Total.Fwd.Packets</th>\n",
       "      <th>Total.Backward.Packets</th>\n",
       "      <th>Total.Length.of.Fwd.Packets</th>\n",
       "      <th>Total.Length.of.Bwd.Packets</th>\n",
       "      <th>...</th>\n",
       "      <th>min_seg_size_forward</th>\n",
       "      <th>Active.Mean</th>\n",
       "      <th>Active.Std</th>\n",
       "      <th>Active.Max</th>\n",
       "      <th>Active.Min</th>\n",
       "      <th>Idle.Mean</th>\n",
       "      <th>Idle.Std</th>\n",
       "      <th>Idle.Max</th>\n",
       "      <th>Idle.Min</th>\n",
       "      <th>L7Protocol</th>\n",
       "    </tr>\n",
       "  </thead>\n",
       "  <tbody>\n",
       "    <tr>\n",
       "      <th>count</th>\n",
       "      <td>4.989180e+05</td>\n",
       "      <td>498918.000000</td>\n",
       "      <td>4.989180e+05</td>\n",
       "      <td>498918.000000</td>\n",
       "      <td>498918.000000</td>\n",
       "      <td>4.989180e+05</td>\n",
       "      <td>498918.000000</td>\n",
       "      <td>498918.000000</td>\n",
       "      <td>4.989180e+05</td>\n",
       "      <td>4.989180e+05</td>\n",
       "      <td>...</td>\n",
       "      <td>498918.000000</td>\n",
       "      <td>4.989180e+05</td>\n",
       "      <td>4.989180e+05</td>\n",
       "      <td>4.989180e+05</td>\n",
       "      <td>4.989180e+05</td>\n",
       "      <td>4.989180e+05</td>\n",
       "      <td>4.989180e+05</td>\n",
       "      <td>4.989180e+05</td>\n",
       "      <td>4.989180e+05</td>\n",
       "      <td>498918.000000</td>\n",
       "    </tr>\n",
       "    <tr>\n",
       "      <th>mean</th>\n",
       "      <td>1.294520e+09</td>\n",
       "      <td>37645.836917</td>\n",
       "      <td>1.594729e+09</td>\n",
       "      <td>10851.554412</td>\n",
       "      <td>6.004125</td>\n",
       "      <td>2.042573e+07</td>\n",
       "      <td>53.915499</td>\n",
       "      <td>63.890986</td>\n",
       "      <td>3.225316e+04</td>\n",
       "      <td>1.087518e+05</td>\n",
       "      <td>...</td>\n",
       "      <td>26.201773</td>\n",
       "      <td>2.623767e+05</td>\n",
       "      <td>1.402083e+05</td>\n",
       "      <td>4.307782e+05</td>\n",
       "      <td>1.620946e+05</td>\n",
       "      <td>6.842317e+06</td>\n",
       "      <td>1.059232e+06</td>\n",
       "      <td>7.770179e+06</td>\n",
       "      <td>5.865060e+06</td>\n",
       "      <td>98.503335</td>\n",
       "    </tr>\n",
       "    <tr>\n",
       "      <th>std</th>\n",
       "      <td>1.452503e+09</td>\n",
       "      <td>21840.175147</td>\n",
       "      <td>1.393200e+09</td>\n",
       "      <td>19676.239562</td>\n",
       "      <td>0.314518</td>\n",
       "      <td>3.635861e+07</td>\n",
       "      <td>887.895593</td>\n",
       "      <td>1458.414300</td>\n",
       "      <td>1.388558e+06</td>\n",
       "      <td>3.460063e+06</td>\n",
       "      <td>...</td>\n",
       "      <td>6.031146</td>\n",
       "      <td>2.248741e+06</td>\n",
       "      <td>1.082715e+06</td>\n",
       "      <td>2.933065e+06</td>\n",
       "      <td>2.044627e+06</td>\n",
       "      <td>1.585914e+07</td>\n",
       "      <td>4.324042e+06</td>\n",
       "      <td>1.747357e+07</td>\n",
       "      <td>1.487599e+07</td>\n",
       "      <td>53.893455</td>\n",
       "    </tr>\n",
       "    <tr>\n",
       "      <th>min</th>\n",
       "      <td>9.393201e+07</td>\n",
       "      <td>0.000000</td>\n",
       "      <td>6.817647e+07</td>\n",
       "      <td>0.000000</td>\n",
       "      <td>0.000000</td>\n",
       "      <td>1.000000e+00</td>\n",
       "      <td>1.000000</td>\n",
       "      <td>0.000000</td>\n",
       "      <td>0.000000e+00</td>\n",
       "      <td>0.000000e+00</td>\n",
       "      <td>...</td>\n",
       "      <td>0.000000</td>\n",
       "      <td>0.000000e+00</td>\n",
       "      <td>0.000000e+00</td>\n",
       "      <td>0.000000e+00</td>\n",
       "      <td>0.000000e+00</td>\n",
       "      <td>0.000000e+00</td>\n",
       "      <td>0.000000e+00</td>\n",
       "      <td>0.000000e+00</td>\n",
       "      <td>0.000000e+00</td>\n",
       "      <td>5.000000</td>\n",
       "    </tr>\n",
       "    <tr>\n",
       "      <th>25%</th>\n",
       "      <td>1.808813e+08</td>\n",
       "      <td>3818.000000</td>\n",
       "      <td>1.808812e+08</td>\n",
       "      <td>443.000000</td>\n",
       "      <td>6.000000</td>\n",
       "      <td>6.840000e+02</td>\n",
       "      <td>2.000000</td>\n",
       "      <td>1.000000</td>\n",
       "      <td>6.000000e+00</td>\n",
       "      <td>0.000000e+00</td>\n",
       "      <td>...</td>\n",
       "      <td>20.000000</td>\n",
       "      <td>0.000000e+00</td>\n",
       "      <td>0.000000e+00</td>\n",
       "      <td>0.000000e+00</td>\n",
       "      <td>0.000000e+00</td>\n",
       "      <td>0.000000e+00</td>\n",
       "      <td>0.000000e+00</td>\n",
       "      <td>0.000000e+00</td>\n",
       "      <td>0.000000e+00</td>\n",
       "      <td>91.000000</td>\n",
       "    </tr>\n",
       "    <tr>\n",
       "      <th>50%</th>\n",
       "      <td>1.808814e+08</td>\n",
       "      <td>48610.000000</td>\n",
       "      <td>1.145287e+09</td>\n",
       "      <td>3128.000000</td>\n",
       "      <td>6.000000</td>\n",
       "      <td>3.506545e+05</td>\n",
       "      <td>6.000000</td>\n",
       "      <td>4.000000</td>\n",
       "      <td>3.430000e+02</td>\n",
       "      <td>1.430000e+02</td>\n",
       "      <td>...</td>\n",
       "      <td>32.000000</td>\n",
       "      <td>0.000000e+00</td>\n",
       "      <td>0.000000e+00</td>\n",
       "      <td>0.000000e+00</td>\n",
       "      <td>0.000000e+00</td>\n",
       "      <td>0.000000e+00</td>\n",
       "      <td>0.000000e+00</td>\n",
       "      <td>0.000000e+00</td>\n",
       "      <td>0.000000e+00</td>\n",
       "      <td>126.000000</td>\n",
       "    </tr>\n",
       "    <tr>\n",
       "      <th>75%</th>\n",
       "      <td>3.232244e+09</td>\n",
       "      <td>53880.000000</td>\n",
       "      <td>3.003188e+09</td>\n",
       "      <td>3128.000000</td>\n",
       "      <td>6.000000</td>\n",
       "      <td>1.779128e+07</td>\n",
       "      <td>15.000000</td>\n",
       "      <td>15.000000</td>\n",
       "      <td>1.776000e+03</td>\n",
       "      <td>4.502000e+03</td>\n",
       "      <td>...</td>\n",
       "      <td>32.000000</td>\n",
       "      <td>0.000000e+00</td>\n",
       "      <td>0.000000e+00</td>\n",
       "      <td>0.000000e+00</td>\n",
       "      <td>0.000000e+00</td>\n",
       "      <td>0.000000e+00</td>\n",
       "      <td>0.000000e+00</td>\n",
       "      <td>0.000000e+00</td>\n",
       "      <td>0.000000e+00</td>\n",
       "      <td>130.000000</td>\n",
       "    </tr>\n",
       "    <tr>\n",
       "      <th>max</th>\n",
       "      <td>3.645130e+09</td>\n",
       "      <td>65534.000000</td>\n",
       "      <td>3.706970e+09</td>\n",
       "      <td>65534.000000</td>\n",
       "      <td>17.000000</td>\n",
       "      <td>1.200000e+08</td>\n",
       "      <td>268376.000000</td>\n",
       "      <td>542196.000000</td>\n",
       "      <td>5.006735e+08</td>\n",
       "      <td>1.345796e+09</td>\n",
       "      <td>...</td>\n",
       "      <td>48.000000</td>\n",
       "      <td>1.138933e+08</td>\n",
       "      <td>6.989470e+07</td>\n",
       "      <td>1.138933e+08</td>\n",
       "      <td>1.138933e+08</td>\n",
       "      <td>1.199973e+08</td>\n",
       "      <td>7.437682e+07</td>\n",
       "      <td>1.199973e+08</td>\n",
       "      <td>1.199973e+08</td>\n",
       "      <td>221.000000</td>\n",
       "    </tr>\n",
       "  </tbody>\n",
       "</table>\n",
       "<p>8 rows × 83 columns</p>\n",
       "</div>"
      ],
      "text/plain": [
       "          Source.IP    Source.Port  Destination.IP  Destination.Port  \\\n",
       "count  4.989180e+05  498918.000000    4.989180e+05     498918.000000   \n",
       "mean   1.294520e+09   37645.836917    1.594729e+09      10851.554412   \n",
       "std    1.452503e+09   21840.175147    1.393200e+09      19676.239562   \n",
       "min    9.393201e+07       0.000000    6.817647e+07          0.000000   \n",
       "25%    1.808813e+08    3818.000000    1.808812e+08        443.000000   \n",
       "50%    1.808814e+08   48610.000000    1.145287e+09       3128.000000   \n",
       "75%    3.232244e+09   53880.000000    3.003188e+09       3128.000000   \n",
       "max    3.645130e+09   65534.000000    3.706970e+09      65534.000000   \n",
       "\n",
       "            Protocol  Flow.Duration  Total.Fwd.Packets  \\\n",
       "count  498918.000000   4.989180e+05      498918.000000   \n",
       "mean        6.004125   2.042573e+07          53.915499   \n",
       "std         0.314518   3.635861e+07         887.895593   \n",
       "min         0.000000   1.000000e+00           1.000000   \n",
       "25%         6.000000   6.840000e+02           2.000000   \n",
       "50%         6.000000   3.506545e+05           6.000000   \n",
       "75%         6.000000   1.779128e+07          15.000000   \n",
       "max        17.000000   1.200000e+08      268376.000000   \n",
       "\n",
       "       Total.Backward.Packets  Total.Length.of.Fwd.Packets  \\\n",
       "count           498918.000000                 4.989180e+05   \n",
       "mean                63.890986                 3.225316e+04   \n",
       "std               1458.414300                 1.388558e+06   \n",
       "min                  0.000000                 0.000000e+00   \n",
       "25%                  1.000000                 6.000000e+00   \n",
       "50%                  4.000000                 3.430000e+02   \n",
       "75%                 15.000000                 1.776000e+03   \n",
       "max             542196.000000                 5.006735e+08   \n",
       "\n",
       "       Total.Length.of.Bwd.Packets  ...  min_seg_size_forward   Active.Mean  \\\n",
       "count                 4.989180e+05  ...         498918.000000  4.989180e+05   \n",
       "mean                  1.087518e+05  ...             26.201773  2.623767e+05   \n",
       "std                   3.460063e+06  ...              6.031146  2.248741e+06   \n",
       "min                   0.000000e+00  ...              0.000000  0.000000e+00   \n",
       "25%                   0.000000e+00  ...             20.000000  0.000000e+00   \n",
       "50%                   1.430000e+02  ...             32.000000  0.000000e+00   \n",
       "75%                   4.502000e+03  ...             32.000000  0.000000e+00   \n",
       "max                   1.345796e+09  ...             48.000000  1.138933e+08   \n",
       "\n",
       "         Active.Std    Active.Max    Active.Min     Idle.Mean      Idle.Std  \\\n",
       "count  4.989180e+05  4.989180e+05  4.989180e+05  4.989180e+05  4.989180e+05   \n",
       "mean   1.402083e+05  4.307782e+05  1.620946e+05  6.842317e+06  1.059232e+06   \n",
       "std    1.082715e+06  2.933065e+06  2.044627e+06  1.585914e+07  4.324042e+06   \n",
       "min    0.000000e+00  0.000000e+00  0.000000e+00  0.000000e+00  0.000000e+00   \n",
       "25%    0.000000e+00  0.000000e+00  0.000000e+00  0.000000e+00  0.000000e+00   \n",
       "50%    0.000000e+00  0.000000e+00  0.000000e+00  0.000000e+00  0.000000e+00   \n",
       "75%    0.000000e+00  0.000000e+00  0.000000e+00  0.000000e+00  0.000000e+00   \n",
       "max    6.989470e+07  1.138933e+08  1.138933e+08  1.199973e+08  7.437682e+07   \n",
       "\n",
       "           Idle.Max      Idle.Min     L7Protocol  \n",
       "count  4.989180e+05  4.989180e+05  498918.000000  \n",
       "mean   7.770179e+06  5.865060e+06      98.503335  \n",
       "std    1.747357e+07  1.487599e+07      53.893455  \n",
       "min    0.000000e+00  0.000000e+00       5.000000  \n",
       "25%    0.000000e+00  0.000000e+00      91.000000  \n",
       "50%    0.000000e+00  0.000000e+00     126.000000  \n",
       "75%    0.000000e+00  0.000000e+00     130.000000  \n",
       "max    1.199973e+08  1.199973e+08     221.000000  \n",
       "\n",
       "[8 rows x 83 columns]"
      ]
     },
     "execution_count": 25,
     "metadata": {},
     "output_type": "execute_result"
    }
   ],
   "source": [
    "new_dataframe.describe()"
   ]
  },
  {
   "cell_type": "code",
   "execution_count": 26,
   "metadata": {},
   "outputs": [],
   "source": [
    "#extract the file\n",
    "new_dataframe.to_csv('KaggleImbalanced.csv', index=False)"
   ]
  },
  {
   "cell_type": "code",
   "execution_count": null,
   "metadata": {},
   "outputs": [],
   "source": []
  }
 ],
 "metadata": {
  "kernelspec": {
   "display_name": "Python 3",
   "language": "python",
   "name": "python3"
  },
  "language_info": {
   "codemirror_mode": {
    "name": "ipython",
    "version": 3
   },
   "file_extension": ".py",
   "mimetype": "text/x-python",
   "name": "python",
   "nbconvert_exporter": "python",
   "pygments_lexer": "ipython3",
   "version": "3.8.5"
  }
 },
 "nbformat": 4,
 "nbformat_minor": 4
}
